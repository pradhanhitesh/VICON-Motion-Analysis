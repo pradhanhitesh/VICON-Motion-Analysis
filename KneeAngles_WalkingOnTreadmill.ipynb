{
  "nbformat": 4,
  "nbformat_minor": 0,
  "metadata": {
    "colab": {
      "name": "calcViconJointAngles.ipynb",
      "provenance": [],
      "authorship_tag": "ABX9TyN9baaqDTgaqiQ6lAAFVvV1",
      "include_colab_link": true
    },
    "kernelspec": {
      "name": "python3",
      "display_name": "Python 3"
    },
    "language_info": {
      "name": "python"
    }
  },
  "cells": [
    {
      "cell_type": "markdown",
      "metadata": {
        "id": "view-in-github",
        "colab_type": "text"
      },
      "source": [
        "<a href=\"https://colab.research.google.com/github/pradhanhitesh/VICON-Motion-Analysis/blob/main/KneeAngles_WalkingOnTreadmill.ipynb\" target=\"_parent\"><img src=\"https://colab.research.google.com/assets/colab-badge.svg\" alt=\"Open In Colab\"/></a>"
      ]
    },
    {
      "cell_type": "markdown",
      "source": [
        "  **COURSE:** ES656 Human Robot Interaction\n",
        "\n",
        "  **INSTITUTE:** Indian Institute of Technology, Gandhinagar\n",
        "\n",
        "  **AUTHOR:** Srisai Rakesh Kottu, Hitesh Pradhan\n",
        "\n",
        "**MOTION:** Walking on the Treadmill\n",
        "\n",
        "This code estimates the knee-joint angle in saggital plane.  "
      ],
      "metadata": {
        "id": "6PXVuuoiescL"
      }
    },
    {
      "cell_type": "code",
      "source": [
        "import csv \n",
        "import math \n",
        "from matplotlib import pyplot as plt\n"
      ],
      "metadata": {
        "id": "hJ2SbhLjdmuH"
      },
      "execution_count": 10,
      "outputs": []
    },
    {
      "cell_type": "code",
      "source": [
        "file = open(\"Neel_OnTreadMill.csv\")\n",
        "csvreader = csv.reader(file)\n",
        "\n",
        "header = next(csvreader)\n",
        "print(header)\n",
        "\n",
        "rows = []\n",
        "\n",
        "for row in csvreader:\n",
        "    rows.append(row)\n",
        "\n",
        "#print(rows[0])\n",
        "file.close\n",
        "\n"
      ],
      "metadata": {
        "colab": {
          "base_uri": "https://localhost:8080/"
        },
        "id": "K4tXXjipdsuQ",
        "outputId": "4dc41792-eff0-4ab5-cd5e-3874247e3907"
      },
      "execution_count": 16,
      "outputs": [
        {
          "output_type": "stream",
          "name": "stdout",
          "text": [
            "['391.657623', '957.424194', '925.278015', '413.396088', '1006.601318', '648.498047', '480.290131', '1039.150513', '413.048401']\n"
          ]
        },
        {
          "output_type": "execute_result",
          "data": {
            "text/plain": [
              "<function TextIOWrapper.close>"
            ]
          },
          "metadata": {},
          "execution_count": 16
        }
      ]
    },
    {
      "cell_type": "code",
      "source": [
        "#ref ['RTHI_X', 'RTHI_Y', 'RTHI_Z', 'RKNE_X', 'RKNE_Y', 'RKNE_Z', 'RTIB_X', 'RTIB_Y', 'RTIB_Z']\n",
        "#       0          1         2         3          4        5         6         7         8\n",
        "\n",
        "print (rows[1])\n",
        "angle = []\n",
        "def slope(x1, y1, x2, y2):\n",
        "    return (float)(y2-y1)/(x2-x1)\n",
        "\n",
        "print(len(rows))\n",
        "\n",
        "for i in range(1849):\n",
        "    \n",
        "    m1 = slope(float(rows[i][1]),float(rows[i][2]),float(rows[i][4]),float(rows[i][5]))\n",
        "    #print(m1)\n",
        "    m2 = slope(float(rows[i][4]),float(rows[i][5]),float(rows[i][7]),float(rows[i][8]))\n",
        "    #print(m2)\n",
        "\n",
        "    tanKnee = (m1-m2)/(1+(m1*m2))\n",
        "    #print(tanKnee)\n",
        "\n",
        "    KneeAng = math.degrees(math.atan(tanKnee))\n",
        "    angle.append(170+KneeAng)\n",
        "    #print(KneeAng)\n",
        "\n",
        "plt.plot(angle)\n",
        "plt.grid()\n",
        "plt.xlabel(\"Frames (200fps)\")\n",
        "plt.ylabel(\"Knee Angle\")"
      ],
      "metadata": {
        "colab": {
          "base_uri": "https://localhost:8080/",
          "height": 351
        },
        "id": "MeI95Jvad9KK",
        "outputId": "300b7804-9b87-4c7f-9da7-2088199a92d8"
      },
      "execution_count": 17,
      "outputs": [
        {
          "output_type": "stream",
          "name": "stdout",
          "text": [
            "['391.339966', '959.810791', '924.85437', '413.431458', '1010.070312', '648.311584', '480.580719', '1043.765381', '412.908844']\n",
            "2999\n"
          ]
        },
        {
          "output_type": "execute_result",
          "data": {
            "text/plain": [
              "Text(0, 0.5, 'Knee Angle')"
            ]
          },
          "metadata": {},
          "execution_count": 17
        },
        {
          "output_type": "display_data",
          "data": {
            "text/plain": [
              "<Figure size 432x288 with 1 Axes>"
            ],
            "image/png": "[encoded data removed]"
          },
          "metadata": {
            "needs_background": "light"
          }
        }
      ]
    }
  ]
}